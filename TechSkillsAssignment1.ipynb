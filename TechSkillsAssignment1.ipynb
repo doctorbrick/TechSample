{
 "cells": [
  {
   "cell_type": "markdown",
   "metadata": {},
   "source": [
    "## Michael Crisol"
   ]
  },
  {
   "cell_type": "markdown",
   "metadata": {},
   "source": [
    "**1.**\n",
    "The radius of a circle is 5.5. Write a script to compute the area of a circle."
   ]
  },
  {
   "cell_type": "code",
   "execution_count": 1,
   "metadata": {},
   "outputs": [
    {
     "data": {
      "text/plain": [
       "94.985"
      ]
     },
     "execution_count": 1,
     "metadata": {},
     "output_type": "execute_result"
    }
   ],
   "source": [
    "r=5.5\n",
    "PI=3.14\n",
    "circle_area = PI*r**2\n",
    "circle_area"
   ]
  },
  {
   "cell_type": "markdown",
   "metadata": {},
   "source": [
    "**2.**\n",
    "Write a program where Python prints your name, then print them in reverse order with a comma between them.  Put this in the same cell.    \n",
    "\n",
    "For example:\n",
    "\n",
    "Sophia Barrett    \n",
    "Barrett, Sophia"
   ]
  },
  {
   "cell_type": "code",
   "execution_count": 10,
   "metadata": {},
   "outputs": [
    {
     "name": "stdout",
     "output_type": "stream",
     "text": [
      "Enter first name:Michael\n",
      "Enter last name:Crisol\n",
      "Michael Crisol\n",
      "Crisol , Michael\n"
     ]
    }
   ],
   "source": [
    "first_name = input('Enter first name:')\n",
    "last_name = input('Enter last name:')\n",
    "print(first_name, last_name)\n",
    "print(last_name,',', first_name)"
   ]
  },
  {
   "cell_type": "markdown",
   "metadata": {},
   "source": [
    "**3.**  Write a program to test if a number is divisible by 5."
   ]
  },
  {
   "cell_type": "code",
   "execution_count": 8,
   "metadata": {},
   "outputs": [
    {
     "name": "stdout",
     "output_type": "stream",
     "text": [
      "Enter a nunber to test if it is divisible by 5:6\n"
     ]
    },
    {
     "data": {
      "text/plain": [
       "False"
      ]
     },
     "execution_count": 8,
     "metadata": {},
     "output_type": "execute_result"
    }
   ],
   "source": [
    "number = input('Enter a nunber to test if it is divisible by 5:')\n",
    "x = int(number)%5\n",
    "x == 0"
   ]
  },
  {
   "cell_type": "markdown",
   "metadata": {},
   "source": [
    "**4.**  What is the output of the following program?  \n",
    "\n",
    "a = 1  \n",
    "b = a * 2  \n",
    "c = 2 * b + 1  \n",
    "print(a)  \n",
    "print(b)  \n",
    "print(c)  "
   ]
  },
  {
   "cell_type": "code",
   "execution_count": 4,
   "metadata": {},
   "outputs": [
    {
     "name": "stdout",
     "output_type": "stream",
     "text": [
      "1\n",
      "2\n",
      "5\n"
     ]
    }
   ],
   "source": [
    "a = 1\n",
    "b = a * 2\n",
    "c = 2 * b + 1\n",
    "print(a)\n",
    "print(b)\n",
    "print(c)"
   ]
  },
  {
   "cell_type": "markdown",
   "metadata": {},
   "source": [
    "**5.**  What is the output of the following program?  \n",
    "\n",
    "a = 2  \n",
    "b = a * 2  \n",
    "c = b ** a  \n",
    "a = c % 2  \n",
    "print(a)  \n",
    "print(b)  \n",
    "print(c)  "
   ]
  },
  {
   "cell_type": "code",
   "execution_count": 5,
   "metadata": {},
   "outputs": [
    {
     "name": "stdout",
     "output_type": "stream",
     "text": [
      "0\n",
      "4\n",
      "16\n"
     ]
    }
   ],
   "source": [
    "a = 2\n",
    "b = a * 2\n",
    "c = b ** a\n",
    "a = c % 2\n",
    "print(a)\n",
    "print(b)\n",
    "print(c)"
   ]
  },
  {
   "cell_type": "markdown",
   "metadata": {},
   "source": [
    "**6.**    What is the output of the following program?  \n",
    "\n",
    "a = 5  \n",
    "b = a // 2  \n",
    "c = a / 2  \n",
    "a = a % 2  \n",
    "print(a)  \n",
    "print(b)  \n",
    "print(c)  "
   ]
  },
  {
   "cell_type": "code",
   "execution_count": 11,
   "metadata": {},
   "outputs": [
    {
     "name": "stdout",
     "output_type": "stream",
     "text": [
      "1\n",
      "2\n",
      "2.5\n"
     ]
    }
   ],
   "source": [
    "a = 5\n",
    "b = a // 2\n",
    "c = a / 2\n",
    "a = a % 2\n",
    "print(a)\n",
    "print(b)\n",
    "print(c)"
   ]
  },
  {
   "cell_type": "markdown",
   "metadata": {},
   "source": [
    "**7.**  Type each of the following commands.  Note each response.    \n",
    "print(\"Hello, world!\")    \n",
    "print(\"Hello\", \"world!\")  \n",
    "print(3)  \n",
    "print(3.0)  \n",
    "print(2 + 3)  \n",
    "print(2.0 + 3.0)  \n",
    "print(2 * 3)  \n",
    "print(2 ** 3)\n",
    "print(7 / 3)  \n",
    "print(7 // 3)  "
   ]
  },
  {
   "cell_type": "code",
   "execution_count": 13,
   "metadata": {},
   "outputs": [
    {
     "name": "stdout",
     "output_type": "stream",
     "text": [
      "Hello, world!\n",
      "Hello world!\n",
      "3\n",
      "3.0\n",
      "5\n",
      "5.0\n",
      "6\n",
      "8\n",
      "2.3333333333333335\n",
      "2\n"
     ]
    }
   ],
   "source": [
    "print(\"Hello, world!\")\n",
    "print(\"Hello\", \"world!\")\n",
    "print(3)\n",
    "print(3.0)\n",
    "print(2 + 3)\n",
    "print(2.0 + 3.0)\n",
    "print(2 * 3)\n",
    "print(2 ** 3) \n",
    "print(7 / 3)\n",
    "print(7 // 3)"
   ]
  },
  {
   "cell_type": "markdown",
   "metadata": {},
   "source": [
    "**8.**\n",
    "\n",
    "Create a program with a name and age.  Then have it print out a message addressed to name that tells them the year that they will turn 100 years old."
   ]
  },
  {
   "cell_type": "code",
   "execution_count": 4,
   "metadata": {},
   "outputs": [
    {
     "name": "stdout",
     "output_type": "stream",
     "text": [
      "Hello there! Enter your name:Mike\n",
      "Now enter your age:23\n",
      "Here's a fun fact, Mike : You will turn 100 years of age in the year 2097\n"
     ]
    }
   ],
   "source": [
    "name = input(\"Hello there! Enter your name:\")\n",
    "age = input(\"Now enter your age:\")\n",
    "future_age = 2020 + (100-int(age))\n",
    "print(\"Here's a fun fact,\", name,\": You will turn 100 years of age in the year\", future_age)"
   ]
  },
  {
   "cell_type": "markdown",
   "metadata": {},
   "source": [
    "**9.**  Create a sequence of numbers from 3 to 19, but increment by 2.  "
   ]
  },
  {
   "cell_type": "code",
   "execution_count": 6,
   "metadata": {},
   "outputs": [
    {
     "data": {
      "text/plain": [
       "[3, 5, 7, 9, 11, 13, 15, 17]"
      ]
     },
     "execution_count": 6,
     "metadata": {},
     "output_type": "execute_result"
    }
   ],
   "source": [
    "list(range(3, 19, 2))"
   ]
  },
  {
   "cell_type": "markdown",
   "metadata": {},
   "source": [
    "**10.**  Try to solve this problem on your own first, then check your results with python.    \n",
    "  \n",
    "  \n",
    "a = 21\n",
    "b = 10\n",
    "c = 0\n",
    "\n",
    "c = a + b\n",
    "print \"Line 1 - Value of c is \", c\n",
    "\n",
    "c += a\n",
    "print \"Line 2 - Value of c is \", c \n",
    "\n",
    "c *= a\n",
    "print \"Line 3 - Value of c is \", c \n",
    "\n",
    "c /= a \n",
    "print \"Line 4 - Value of c is \", c \n",
    "\n",
    "c  = 2\n",
    "c %= a\n",
    "print \"Line 5 - Value of c is \", c\n",
    "\n",
    "c **= a\n",
    "print \"Line 6 - Value of c is \", c\n",
    "\n",
    "c //= a\n",
    "print \"Line 7 - Value of c is \", c"
   ]
  },
  {
   "cell_type": "code",
   "execution_count": 1,
   "metadata": {},
   "outputs": [
    {
     "name": "stdout",
     "output_type": "stream",
     "text": [
      "Line 1 - Value of c is 31\n",
      "Line 2 - Value of c is 52\n",
      "Line 3 - Value of c is 1092\n",
      "Line 4 - Value of c is 52.0\n",
      "Line 5 - Value of c is 2\n",
      "Line 6 - Value of c is 2\n",
      "Line 7 - Value of c is 2097152\n",
      "Line 8 - Value of c is 99864\n"
     ]
    }
   ],
   "source": [
    "(a, b , c) = (21, 10, 0)\n",
    "c = a + b\n",
    "print(\"Line 1 - Value of c is\", c)\n",
    "c += a\n",
    "print(\"Line 2 - Value of c is\", c)\n",
    "c *= a \n",
    "print(\"Line 3 - Value of c is\", c)\n",
    "c /= a\n",
    "print(\"Line 4 - Value of c is\", c)\n",
    "c = 2\n",
    "print(\"Line 5 - Value of c is\", c)\n",
    "c %= a\n",
    "print(\"Line 6 - Value of c is\", c)\n",
    "c **= a\n",
    "print(\"Line 7 - Value of c is\", c)\n",
    "c //= a\n",
    "print(\"Line 8 - Value of c is\", c)"
   ]
  }
 ],
 "metadata": {
  "kernelspec": {
   "display_name": "Python 3",
   "language": "python",
   "name": "python3"
  },
  "language_info": {
   "codemirror_mode": {
    "name": "ipython",
    "version": 3
   },
   "file_extension": ".py",
   "mimetype": "text/x-python",
   "name": "python",
   "nbconvert_exporter": "python",
   "pygments_lexer": "ipython3",
   "version": "3.7.6"
  }
 },
 "nbformat": 4,
 "nbformat_minor": 2
}
